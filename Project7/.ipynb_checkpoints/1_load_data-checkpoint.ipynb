{
 "cells": [
  {
   "cell_type": "code",
   "execution_count": 1,
   "id": "1737d1e0-6b66-4926-a792-3ffb07a60458",
   "metadata": {
    "tags": []
   },
   "outputs": [],
   "source": [
    "import pandas as pd"
   ]
  },
  {
   "cell_type": "code",
   "execution_count": 12,
   "id": "ea9f0e8e-1afa-434a-91cd-cdf6e406a34b",
   "metadata": {
    "tags": []
   },
   "outputs": [],
   "source": [
    "A=pd.read_csv(\"A_lawyer_new.csv\",index_col=0)\n",
    "X=pd.read_csv(\"X_lawyer_new.csv\",index_col=0).set_index(\"name\")"
   ]
  },
  {
   "cell_type": "code",
   "execution_count": null,
   "id": "385b7d8e-a0cd-44df-b334-94e3268cf851",
   "metadata": {
    "tags": []
   },
   "outputs": [],
   "source": []
  },
  {
   "cell_type": "code",
   "execution_count": null,
   "id": "d0114598-66c6-4123-bb2e-761ff5de2f80",
   "metadata": {},
   "outputs": [],
   "source": []
  }
 ],
 "metadata": {
  "kernelspec": {
   "display_name": "py311",
   "language": "python",
   "name": "py311"
  },
  "language_info": {
   "codemirror_mode": {
    "name": "ipython",
    "version": 3
   },
   "file_extension": ".py",
   "mimetype": "text/x-python",
   "name": "python",
   "nbconvert_exporter": "python",
   "pygments_lexer": "ipython3",
   "version": "3.11.8"
  }
 },
 "nbformat": 4,
 "nbformat_minor": 5
}
