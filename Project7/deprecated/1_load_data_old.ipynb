{
 "cells": [
  {
   "cell_type": "code",
   "execution_count": null,
   "id": "6f183410-2f6c-4802-9d93-dc988c5cf6d3",
   "metadata": {},
   "outputs": [],
   "source": [
    "# load data, community detection with spectral clustering and leiden, centrality, refer gcn4r, then GNN, GNN explainer"
   ]
  },
  {
   "cell_type": "markdown",
   "id": "72ffe8b1-247f-411d-b093-a763f320d219",
   "metadata": {},
   "source": [
    "# Social Influence Analysis"
   ]
  },
  {
   "cell_type": "code",
   "execution_count": 9,
   "id": "730cb7c0-553f-4e08-bd45-d74b79d18859",
   "metadata": {
    "tags": []
   },
   "outputs": [],
   "source": [
    "# ! pip install pystan nest-asyncio\n",
    "# ! nest-asyncio"
   ]
  },
  {
   "cell_type": "code",
   "execution_count": 34,
   "id": "b850374c-f62c-45fc-832f-6bf3bd328a77",
   "metadata": {
    "tags": []
   },
   "outputs": [],
   "source": [
    "import nest_asyncio\n",
    "nest_asyncio.apply()\n",
    "import stan\n",
    "import numpy as np\n",
    "import networkx as nx\n",
    "\n",
    "\n",
    "# Example network\n",
    "G = nx.karate_club_graph()\n",
    "\n",
    "# Prepare data\n",
    "N = G.number_of_nodes()\n",
    "K = 5 # number features\n",
    "E = G.number_of_edges()\n",
    "edges = np.array(G.edges()) + 1  # Stan uses 1-indexing\n",
    "node_attributes = np.random.rand(N*K).reshape(N,K)  # Example node attributes\n",
    "data = {'N': N, 'E': E, 'edges': edges, 'X': node_attributes, 'y': node_attributes[:,0], \"K\": K}\n"
   ]
  },
  {
   "cell_type": "code",
   "execution_count": 35,
   "id": "e53445cc-8516-46cf-9907-ad3335a49155",
   "metadata": {
    "tags": []
   },
   "outputs": [],
   "source": [
    "# Calculate shortest path lengths (geodesic distances)\n",
    "path_lengths = dict(nx.all_pairs_shortest_path_length(G))\n",
    "\n",
    "# Create an N x N matrix for inverse geodesic distances\n",
    "inv_geodesic_dist = np.zeros((N, N))\n",
    "for i in range(N):\n",
    "    for j in range(N):\n",
    "        if i != j and path_lengths[i][j] > 0:  # Ensure there is a path\n",
    "            inv_geodesic_dist[i, j] = 1.0 / path_lengths[i][j]\n",
    "        else:\n",
    "            inv_geodesic_dist[i, j] = 0  # No path or self-loop\n",
    "\n",
    "# Update data dictionary\n",
    "data['inv_geo_dist'] = inv_geodesic_dist\n"
   ]
  },
  {
   "cell_type": "code",
   "execution_count": 40,
   "id": "a2d3c4d8-3573-4b27-ad19-1b569f4fa497",
   "metadata": {
    "tags": []
   },
   "outputs": [],
   "source": [
    "with open(\"stan_model.txt\") as f:\n",
    "    stan_model_code = f.read()"
   ]
  },
  {
   "cell_type": "code",
   "execution_count": 41,
   "id": "90bea328-ed1f-4368-82ad-d03cc1980e51",
   "metadata": {
    "tags": []
   },
   "outputs": [
    {
     "name": "stderr",
     "output_type": "stream",
     "text": [
      "\u001b[32mBuilding:\u001b[0m \u001b[31;1mSemantic error:\u001b[0m\n",
      "\u001b[31;1m   -------------------------------------------------\n",
      "    21:    sigma ~ cauchy(0, 2);\n",
      "    22:  \n",
      "    23:    vector[N] Wy = inv_geo_dist .* y; // Weighted sum of y\n",
      "                          ^\n",
      "    24:    vector[N] mu = X * beta + rho1 * Wy; // Mean model\n",
      "    25:    // Likelihood\n",
      "   -------------------------------------------------\n",
      "\n",
      "Ill-typed arguments supplied to infix operator .*. Available signatures: \n",
      "(int, int) => int\n",
      "(real, real) => real\n",
      "(real, vector) => vector\n",
      "(vector, real) => vector\n",
      "(vector, vector) => vector\n",
      "(complex, complex) => complex\n",
      "(real, row_vector) => row_vector\n",
      "(row_vector, real) => row_vector\n",
      "(row_vector, row_vector) => row_vector\n",
      "(real, matrix) => matrix\n",
      "(matrix, real) => matrix\n",
      "(matrix, matrix) => matrix\n",
      "(complex, complex_vector) => complex_vector\n",
      "(complex_vector, complex) => complex_vector\n",
      "(complex_vector, complex_vector) => complex_vector\n",
      "(complex, complex_row_vector) => complex_row_vector\n",
      "(complex_row_vector, complex) => complex_row_vector\n",
      "(complex_row_vector, complex_row_vector) => complex_row_vector\n",
      "(complex, complex_matrix) => complex_matrix\n",
      "(complex_matrix, complex) => complex_matrix\n",
      "(complex_matrix, complex_matrix) => complex_matrix\n",
      "Instead supplied arguments of incompatible type: matrix, vector.\u001b[0m\n"
     ]
    },
    {
     "ename": "ValueError",
     "evalue": "Semantic error",
     "output_type": "error",
     "traceback": [
      "\u001b[0;31m---------------------------------------------------------------------------\u001b[0m",
      "\u001b[0;31mValueError\u001b[0m                                Traceback (most recent call last)",
      "Cell \u001b[0;32mIn[41], line 1\u001b[0m\n\u001b[0;32m----> 1\u001b[0m posterior \u001b[38;5;241m=\u001b[39m \u001b[43mstan\u001b[49m\u001b[38;5;241;43m.\u001b[39;49m\u001b[43mbuild\u001b[49m\u001b[43m(\u001b[49m\u001b[43mstan_model_code\u001b[49m\u001b[43m,\u001b[49m\u001b[43m \u001b[49m\u001b[43mdata\u001b[49m\u001b[38;5;241;43m=\u001b[39;49m\u001b[43mdata\u001b[49m\u001b[43m)\u001b[49m\n\u001b[1;32m      2\u001b[0m fit \u001b[38;5;241m=\u001b[39m posterior\u001b[38;5;241m.\u001b[39msample(num_chains\u001b[38;5;241m=\u001b[39m\u001b[38;5;241m4\u001b[39m, num_samples\u001b[38;5;241m=\u001b[39m\u001b[38;5;241m1000\u001b[39m)\n\u001b[1;32m      3\u001b[0m eta \u001b[38;5;241m=\u001b[39m fit[\u001b[38;5;124m\"\u001b[39m\u001b[38;5;124meta\u001b[39m\u001b[38;5;124m\"\u001b[39m]  \n",
      "File \u001b[0;32m~/opt/anaconda3/envs/py311/lib/python3.11/site-packages/stan/model.py:519\u001b[0m, in \u001b[0;36mbuild\u001b[0;34m(program_code, data, random_seed)\u001b[0m\n\u001b[1;32m    516\u001b[0m         \u001b[38;5;28;01mreturn\u001b[39;00m Model(model_name, program_code, data, param_names, constrained_param_names, dims, random_seed)\n\u001b[1;32m    518\u001b[0m \u001b[38;5;28;01mtry\u001b[39;00m:\n\u001b[0;32m--> 519\u001b[0m     \u001b[38;5;28;01mreturn\u001b[39;00m \u001b[43masyncio\u001b[49m\u001b[38;5;241;43m.\u001b[39;49m\u001b[43mrun\u001b[49m\u001b[43m(\u001b[49m\u001b[43mgo\u001b[49m\u001b[43m(\u001b[49m\u001b[43m)\u001b[49m\u001b[43m)\u001b[49m\n\u001b[1;32m    520\u001b[0m \u001b[38;5;28;01mexcept\u001b[39;00m \u001b[38;5;167;01mKeyboardInterrupt\u001b[39;00m:\n\u001b[1;32m    521\u001b[0m     \u001b[38;5;28;01mreturn\u001b[39;00m\n",
      "File \u001b[0;32m~/opt/anaconda3/envs/py311/lib/python3.11/site-packages/nest_asyncio.py:35\u001b[0m, in \u001b[0;36m_patch_asyncio.<locals>.run\u001b[0;34m(main, debug)\u001b[0m\n\u001b[1;32m     33\u001b[0m task \u001b[38;5;241m=\u001b[39m asyncio\u001b[38;5;241m.\u001b[39mensure_future(main)\n\u001b[1;32m     34\u001b[0m \u001b[38;5;28;01mtry\u001b[39;00m:\n\u001b[0;32m---> 35\u001b[0m     \u001b[38;5;28;01mreturn\u001b[39;00m \u001b[43mloop\u001b[49m\u001b[38;5;241;43m.\u001b[39;49m\u001b[43mrun_until_complete\u001b[49m\u001b[43m(\u001b[49m\u001b[43mtask\u001b[49m\u001b[43m)\u001b[49m\n\u001b[1;32m     36\u001b[0m \u001b[38;5;28;01mfinally\u001b[39;00m:\n\u001b[1;32m     37\u001b[0m     \u001b[38;5;28;01mif\u001b[39;00m \u001b[38;5;129;01mnot\u001b[39;00m task\u001b[38;5;241m.\u001b[39mdone():\n",
      "File \u001b[0;32m~/opt/anaconda3/envs/py311/lib/python3.11/site-packages/nest_asyncio.py:90\u001b[0m, in \u001b[0;36m_patch_loop.<locals>.run_until_complete\u001b[0;34m(self, future)\u001b[0m\n\u001b[1;32m     87\u001b[0m \u001b[38;5;28;01mif\u001b[39;00m \u001b[38;5;129;01mnot\u001b[39;00m f\u001b[38;5;241m.\u001b[39mdone():\n\u001b[1;32m     88\u001b[0m     \u001b[38;5;28;01mraise\u001b[39;00m \u001b[38;5;167;01mRuntimeError\u001b[39;00m(\n\u001b[1;32m     89\u001b[0m         \u001b[38;5;124m'\u001b[39m\u001b[38;5;124mEvent loop stopped before Future completed.\u001b[39m\u001b[38;5;124m'\u001b[39m)\n\u001b[0;32m---> 90\u001b[0m \u001b[38;5;28;01mreturn\u001b[39;00m \u001b[43mf\u001b[49m\u001b[38;5;241;43m.\u001b[39;49m\u001b[43mresult\u001b[49m\u001b[43m(\u001b[49m\u001b[43m)\u001b[49m\n",
      "File \u001b[0;32m~/opt/anaconda3/envs/py311/lib/python3.11/asyncio/futures.py:203\u001b[0m, in \u001b[0;36mFuture.result\u001b[0;34m(self)\u001b[0m\n\u001b[1;32m    201\u001b[0m \u001b[38;5;28mself\u001b[39m\u001b[38;5;241m.\u001b[39m__log_traceback \u001b[38;5;241m=\u001b[39m \u001b[38;5;28;01mFalse\u001b[39;00m\n\u001b[1;32m    202\u001b[0m \u001b[38;5;28;01mif\u001b[39;00m \u001b[38;5;28mself\u001b[39m\u001b[38;5;241m.\u001b[39m_exception \u001b[38;5;129;01mis\u001b[39;00m \u001b[38;5;129;01mnot\u001b[39;00m \u001b[38;5;28;01mNone\u001b[39;00m:\n\u001b[0;32m--> 203\u001b[0m     \u001b[38;5;28;01mraise\u001b[39;00m \u001b[38;5;28mself\u001b[39m\u001b[38;5;241m.\u001b[39m_exception\u001b[38;5;241m.\u001b[39mwith_traceback(\u001b[38;5;28mself\u001b[39m\u001b[38;5;241m.\u001b[39m_exception_tb)\n\u001b[1;32m    204\u001b[0m \u001b[38;5;28;01mreturn\u001b[39;00m \u001b[38;5;28mself\u001b[39m\u001b[38;5;241m.\u001b[39m_result\n",
      "File \u001b[0;32m~/opt/anaconda3/envs/py311/lib/python3.11/asyncio/tasks.py:277\u001b[0m, in \u001b[0;36mTask.__step\u001b[0;34m(***failed resolving arguments***)\u001b[0m\n\u001b[1;32m    273\u001b[0m \u001b[38;5;28;01mtry\u001b[39;00m:\n\u001b[1;32m    274\u001b[0m     \u001b[38;5;28;01mif\u001b[39;00m exc \u001b[38;5;129;01mis\u001b[39;00m \u001b[38;5;28;01mNone\u001b[39;00m:\n\u001b[1;32m    275\u001b[0m         \u001b[38;5;66;03m# We use the `send` method directly, because coroutines\u001b[39;00m\n\u001b[1;32m    276\u001b[0m         \u001b[38;5;66;03m# don't have `__iter__` and `__next__` methods.\u001b[39;00m\n\u001b[0;32m--> 277\u001b[0m         result \u001b[38;5;241m=\u001b[39m coro\u001b[38;5;241m.\u001b[39msend(\u001b[38;5;28;01mNone\u001b[39;00m)\n\u001b[1;32m    278\u001b[0m     \u001b[38;5;28;01melse\u001b[39;00m:\n\u001b[1;32m    279\u001b[0m         result \u001b[38;5;241m=\u001b[39m coro\u001b[38;5;241m.\u001b[39mthrow(exc)\n",
      "File \u001b[0;32m~/opt/anaconda3/envs/py311/lib/python3.11/site-packages/stan/model.py:496\u001b[0m, in \u001b[0;36mbuild.<locals>.go\u001b[0;34m()\u001b[0m\n\u001b[1;32m    494\u001b[0m     building_output\u001b[38;5;241m.\u001b[39mwrite_line(\u001b[38;5;124mf\u001b[39m\u001b[38;5;124m\"\u001b[39m\u001b[38;5;124m<info>Building:</info> <error>\u001b[39m\u001b[38;5;132;01m{\u001b[39;00merror_type\u001b[38;5;132;01m}\u001b[39;00m\u001b[38;5;124m:</error>\u001b[39m\u001b[38;5;124m\"\u001b[39m)\n\u001b[1;32m    495\u001b[0m     building_output\u001b[38;5;241m.\u001b[39mwrite_line(\u001b[38;5;124mf\u001b[39m\u001b[38;5;124m\"\u001b[39m\u001b[38;5;124m<error>\u001b[39m\u001b[38;5;132;01m{\u001b[39;00mexception_body_without_first_line\u001b[38;5;132;01m}\u001b[39;00m\u001b[38;5;124m</error>\u001b[39m\u001b[38;5;124m\"\u001b[39m)\n\u001b[0;32m--> 496\u001b[0m     \u001b[38;5;28;01mraise\u001b[39;00m \u001b[38;5;167;01mValueError\u001b[39;00m(error_type)\n\u001b[1;32m    497\u001b[0m \u001b[38;5;28;01melse\u001b[39;00m:\n\u001b[1;32m    498\u001b[0m     \u001b[38;5;28;01mraise\u001b[39;00m \u001b[38;5;167;01mRuntimeError\u001b[39;00m(exception_body)\n",
      "\u001b[0;31mValueError\u001b[0m: Semantic error"
     ]
    }
   ],
   "source": [
    "posterior = stan.build(stan_model_code, data=data)\n",
    "fit = posterior.sample(num_chains=4, num_samples=1000)\n",
    "eta = fit[\"eta\"]  \n",
    "df = fit.to_frame()"
   ]
  },
  {
   "cell_type": "code",
   "execution_count": null,
   "id": "948e29c4-1a68-451a-b728-47ed30576335",
   "metadata": {},
   "outputs": [],
   "source": []
  }
 ],
 "metadata": {
  "kernelspec": {
   "display_name": "py311",
   "language": "python",
   "name": "py311"
  },
  "language_info": {
   "codemirror_mode": {
    "name": "ipython",
    "version": 3
   },
   "file_extension": ".py",
   "mimetype": "text/x-python",
   "name": "python",
   "nbconvert_exporter": "python",
   "pygments_lexer": "ipython3",
   "version": "3.11.8"
  }
 },
 "nbformat": 4,
 "nbformat_minor": 5
}
