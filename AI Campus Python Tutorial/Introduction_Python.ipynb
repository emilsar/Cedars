{
 "cells": [
  {
   "cell_type": "markdown",
   "id": "a9ff53ae-1e02-4522-9dae-d52ea631bb92",
   "metadata": {},
   "source": [
    "# Introduction to Python Programming\n",
    "Prepared by: Ryan Urbanowicz - Cedars Sinai Medical Center\n",
    "Acknowledgements: Some content generated using ChatGPT, other content based on a tutorial by Dr. Joshua Levy.\n",
    "\n",
    "Welcome to Python!\n",
    "* This Jupyter notebook will guide you through some fundamental concepts of Python within Jupyter Lab.\n",
    "* The left side of Jupyter lab gives the file browser (e.g. for loading a specific Jupyter Notebook)\n",
    "---\n",
    "## Using Jupyter Notebook: Basic Guide\n",
    "A Jupyter notebook consists of cells. \n",
    "\n",
    "**Selecting a Cell:** Clicking to the left of it or when editing a cell hit **Esc** to stop editing and select the whole cell.\n",
    "\n",
    "**Cell Types:** The two main types of cells you will use are **code cells** and **markdown cells**.\n",
    "* **Code Cells:** Contain code you want to run.\n",
    "    * Turn a cell into a **code cell** by first selecting it then either (1) choosing 'Code' from the dropdown menu at the top of the notebook, or (2) hit 'y'.\n",
    "* **Markdown Cells:** Contain text. The text is written in markdown, a lightweight markup language. Details about writing text in markdown can be found [HERE](https://www.edlitera.com/blog/posts/jupyter-markdown-tutorial).\n",
    "\n",
    "**Adding a Cell (Below selected):** \n",
    "* Click the '+' icon in notebook menu (top of notebook), or\n",
    "* Hit 'b', or\n",
    "* Click the 'bar/+' icon at far right of selected cell\n",
    "\n",
    "**Adding a Cell (Above selected):** \n",
    "* Hit 'a', or\n",
    "* Click the '+/bar' icon at far right of selected cell\n",
    "\n",
    "**Move Selected Cell (up or down):** \n",
    "* Click the up or down arrow icon at far right of selected cell\n",
    "  \n",
    "**Deleting a Selected Cell:** \n",
    "* Click the 'trash can' icon at far right of selected cell, or\n",
    "* Hit 'd' twice quickly\n",
    "\n",
    "**Run a Selected Cell:** \n",
    "* Click the 'play' icon in notebook menu (top of notebook)\n",
    "* Hit 'Ctrl-Enter'\n",
    "  \n",
    "**Restart Kernel & Run All Cells in a Notebook:** \n",
    "* Click the couble 'play' icon in notebook menu (top of notebook)\n",
    "\n",
    "**Note:** A \"kernel\" is a computational engine that runs code from a specific programming language\n"
   ]
  },
  {
   "cell_type": "markdown",
   "id": "06c785d0-576b-4dc7-808d-8bf7df6af96a",
   "metadata": {},
   "source": [
    "***\n",
    "## Hello World - Rite of Passage\n",
    "* Python can print text as (standard) output to the screen using the **print()** function\n",
    "* Try running the code cell (below), then try filling in your own code cell and running it"
   ]
  },
  {
   "cell_type": "code",
   "execution_count": null,
   "id": "f73e3171-9e9d-41fe-a42f-a2931de55d1a",
   "metadata": {},
   "outputs": [],
   "source": [
    "print(\"Hello, world!\")"
   ]
  },
  {
   "cell_type": "markdown",
   "id": "ad53a899-28dc-4817-a3fa-224c5cd2751e",
   "metadata": {},
   "source": [
    "#### *Try it Yourself*:\n",
    "*Type a print command into code cell below and run it.*"
   ]
  },
  {
   "cell_type": "code",
   "execution_count": null,
   "id": "99fcc7d4-85ce-4dc9-89ec-8f30c925dee5",
   "metadata": {},
   "outputs": [],
   "source": [
    "# Add code to this cell"
   ]
  },
  {
   "cell_type": "markdown",
   "id": "c5347e8b-23d9-4122-bc8c-a57188d4da9c",
   "metadata": {},
   "source": [
    "***\n",
    "## Fundamentals\n",
    "***\n",
    "### Variables and Data Types\n",
    "Variables store data in Python. Python supports different data types: integers, floats, strings, and booleans.\n",
    "\n",
    "**Note:** Comments can be added to Python code using '#'. Comments are NOT run by the python interpreter."
   ]
  },
  {
   "cell_type": "code",
   "execution_count": null,
   "id": "f617b0c5-9842-47c2-8f5b-ca7e80e2c442",
   "metadata": {},
   "outputs": [],
   "source": [
    "# Creates variables with assigned values of different data types\n",
    "a = 10  # Integer\n",
    "b = 3.14  # Float\n",
    "c = \"Hello, Python!\"  # String\n",
    "d = True  # Boolean\n",
    "\n",
    "# Print out the value and data type for each variable\n",
    "print(a, type(a))\n",
    "print(b, type(b))\n",
    "print(c, type(c))\n",
    "print(d, type(d))"
   ]
  },
  {
   "cell_type": "markdown",
   "id": "bde46f27-39ad-41a8-a913-abfbf92ba799",
   "metadata": {},
   "source": [
    "#### *Try it Yourself*\n",
    "*Create a variable (with any name) and assign a value to it (of any data type), then print it's value and type.*\n"
   ]
  },
  {
   "cell_type": "code",
   "execution_count": null,
   "id": "c9d03588-74e9-4447-9492-298b1b3f6c9e",
   "metadata": {},
   "outputs": [],
   "source": [
    "# Add code to this cell"
   ]
  },
  {
   "cell_type": "markdown",
   "id": "3e534f78-fc8e-4618-ac64-12f955829f32",
   "metadata": {},
   "source": [
    "### Casting Data Types - i.e. Changing Data types "
   ]
  },
  {
   "cell_type": "code",
   "execution_count": null,
   "id": "77b3a370-0b91-4351-93af-50ca394b2d96",
   "metadata": {},
   "outputs": [],
   "source": [
    "# Creates variables with assigned values of different data types\n",
    "e = 30  # Integer\n",
    "f = 7.56  # Float\n",
    "g = 0  # Integer\n",
    "h = False  # Boolean\n",
    "\n",
    "# Print out the value and data type for each variable\n",
    "print('Original Data Types of Variables')\n",
    "print(e, type(e))\n",
    "print(f, type(f))\n",
    "print(g, type(g))\n",
    "print(h, type(h))\n",
    "\n",
    "#Casting variables to a different type\n",
    "e = float(e) #cast to float\n",
    "f = int(f) #cast to integer\n",
    "g = bool(g) #cast as Boolean\n",
    "h = str(h) #cast as string\n",
    "\n",
    "print('New Data Types of Variables')\n",
    "print(e, type(e))\n",
    "print(f, type(f))\n",
    "print(g, type(g))\n",
    "print(h, type(h))"
   ]
  },
  {
   "cell_type": "markdown",
   "id": "2654efb7-3208-40d0-973f-360c1a30aa62",
   "metadata": {},
   "source": [
    "***\n",
    "### Basic Arithmetic Operations"
   ]
  },
  {
   "cell_type": "code",
   "execution_count": null,
   "id": "4b629421-7c7c-4894-a849-0f71237e733f",
   "metadata": {},
   "outputs": [],
   "source": [
    "my_add = a + b # addition\n",
    "my_sub = a - b # subtraction\n",
    "my_product = a * b # multiplication\n",
    "my_division = a / b # division\n",
    "my_floor_division = a // b # floor division -returns the largest integer less than or equal to the result of the division\n",
    "my_modulus = a % 3 # modulus - gives remainder\n",
    "my_exp = a ** 2 # exponentiation\n",
    "my_combo_math = ((a+b)*a)-b # example of a simple mathematical equation\n",
    "\n",
    "print(\"Addition:\", my_add)\n",
    "print(\"Subtraction:\", my_sub)\n",
    "print(\"Multiplication:\", my_product)\n",
    "print(\"Division:\", my_division)\n",
    "print(\"Floor Division:\", my_floor_division)\n",
    "print(\"Remainder:\", my_modulus)\n",
    "print(\"Exponentiation:\", my_exp)\n",
    "print(\"Combo Math:\", my_combo_math)"
   ]
  },
  {
   "cell_type": "markdown",
   "id": "c7c625d6-f2b5-4c5f-8dd9-c09dd8d9d972",
   "metadata": {},
   "source": [
    "#### *Try it Yourself*\n",
    "*Write a mathmatical expression of numerical variables 'a' and 'b' saved to a new variable, and print it.*"
   ]
  },
  {
   "cell_type": "code",
   "execution_count": null,
   "id": "ce523890-dc21-45e5-bb3d-5b9429039f3d",
   "metadata": {},
   "outputs": [],
   "source": [
    "# Add code to this cell"
   ]
  },
  {
   "cell_type": "markdown",
   "id": "6e481c3c-1b79-4a78-9303-45d0175e98ce",
   "metadata": {},
   "source": [
    "***\n",
    "### Relational Operators"
   ]
  },
  {
   "cell_type": "code",
   "execution_count": null,
   "id": "0d0ec5e2-7b53-436d-b294-25b46959b50a",
   "metadata": {},
   "outputs": [],
   "source": [
    "is_less = a < b # less than\n",
    "is_more = a > b # greater than\n",
    "is_less_eq = a <= b # less than or equal to\n",
    "is_more_eq = a >= b # greater than or equal to\n",
    "is_equal = a == b # equal to\n",
    "is_not_equal = a != b # not equal to\n",
    "print(a,b)\n",
    "print(is_less, is_more, is_less_eq, is_more_eq, is_equal, is_not_equal)"
   ]
  },
  {
   "cell_type": "markdown",
   "id": "ad737967-698c-4fc0-bedd-fcb88041bc78",
   "metadata": {},
   "source": [
    "#### *Try it Yourself*\n",
    "*Create a variable that is assigned 'True' or 'False' based on a relational operator comparison, and print it.*"
   ]
  },
  {
   "cell_type": "code",
   "execution_count": null,
   "id": "3a182c9b-6a87-4869-bbf8-459d85245dd4",
   "metadata": {},
   "outputs": [],
   "source": [
    "# Add code to this cell"
   ]
  },
  {
   "cell_type": "markdown",
   "id": "46fdf412-b530-4bd5-a3c9-83a6ba66a10c",
   "metadata": {},
   "source": [
    "***\n",
    "### Control Flow: If-Else Statements\n",
    "* **Note:** In Python, indentation is not just for readability—it’s an essential part of the syntax. Python uses indentation (spaces or tabs) to define the structure of code blocks, such as loops, functions, conditionals, and classes. This is known as Python being \"tab-sensitive\" or \"indentation-sensitive\".\n",
    "* **Note:** In Python, the colon (:) plays an essential role in indicating the start of a code block after certain control structures, like if, else, elif, for, while, and function or class definitions.\n",
    "* Also demonstrates how to combine text and variables into a print statement.\n",
    "* The function **str()** temporarily forces a variable to be treated as a 'string', i.e. text."
   ]
  },
  {
   "cell_type": "code",
   "execution_count": null,
   "id": "d03a96a5-50ca-4b81-8a0a-b8f7249b462d",
   "metadata": {},
   "outputs": [],
   "source": [
    "x = 15\n",
    "y = 10\n",
    "if x > y: # Note the use of the colon (:) and the tab indentation prior to the print function\n",
    "    print(str(x)+ \" is greater than \" +str(y))\n",
    "else: \n",
    "    print(str(x)+ \" is \" +str(y)+ \" or less\")"
   ]
  },
  {
   "cell_type": "markdown",
   "id": "f8cfa89d-f7c6-420d-925d-dfadd34d392a",
   "metadata": {},
   "source": [
    "#### *Try it Yourself*\n",
    "*Create an if-else statement that uses relational operators to compare variable values, then print something unique for whether the comparison is either True or False. Try running the code with different input values for your variables.*"
   ]
  },
  {
   "cell_type": "code",
   "execution_count": null,
   "id": "02abdc03-befd-404d-862a-5a49293185fb",
   "metadata": {},
   "outputs": [],
   "source": [
    "# Add code to this cell"
   ]
  },
  {
   "cell_type": "markdown",
   "id": "2147c772-54f5-432d-9d88-98ab225c9b58",
   "metadata": {},
   "source": [
    "***\n",
    "### IF-Elif-Else Statements\n",
    "We can create a set of multiple conditions using if, elif, and else."
   ]
  },
  {
   "cell_type": "code",
   "execution_count": null,
   "id": "d2cf0199-1790-464e-8aa6-5f7b7c72f946",
   "metadata": {},
   "outputs": [],
   "source": [
    "x = 5\n",
    "y = 10\n",
    "if x > y:\n",
    "    print(str(x)+ \" is greater than \" +str(y))\n",
    "elif x == 5: # a secondary condition that is checked if the first was not True\n",
    "    print(str(x)+ \" is equal to 5\")\n",
    "else: # serves as a catch all if none of the above conditions were satisfied\n",
    "    print(str(x) + \" is neither greater than \" +str(y)+ \" nor equal to 5\")"
   ]
  },
  {
   "cell_type": "markdown",
   "id": "b2f7e357-8157-44eb-8b10-345a4af7fd5c",
   "metadata": {},
   "source": [
    "***\n",
    "### While Loops\n",
    "Repeatedly apply a loop until the **while** condition is False."
   ]
  },
  {
   "cell_type": "code",
   "execution_count": null,
   "id": "1d20354d-bcba-45ab-ae0c-9d4945147ed2",
   "metadata": {},
   "outputs": [],
   "source": [
    "iteration = 0\n",
    "while iteration < 5:\n",
    "    print(\"While loop iteration:\", iteration)\n",
    "    iteration += 1 # increases variable 'iterations' by 1 each step through the while loop"
   ]
  },
  {
   "cell_type": "markdown",
   "id": "9983ac91-52b7-475d-848d-343f3067efbd",
   "metadata": {},
   "source": [
    "#### *Try it Yourself*\n",
    "*Create an while loop statement that uses relational operators as a **while** condition, printing something each loop iteration.*\n",
    "\n",
    "**Note:** *Make sure at some point the condition will become **False** or the loop will run **infinately**.  If this does happen, click the **stop** icon at the top of the notebook to interupt the kernal (i.e. stop the code from running manually).*"
   ]
  },
  {
   "cell_type": "code",
   "execution_count": null,
   "id": "a4c00944-3e28-4e36-916a-c2fb7d5a1b7b",
   "metadata": {},
   "outputs": [],
   "source": [
    "# Add code to this cell"
   ]
  },
  {
   "cell_type": "markdown",
   "id": "12278c21-ecf5-4055-87ed-cf75c33e1f93",
   "metadata": {},
   "source": [
    "***\n",
    "### Logical Operators\n",
    "#### 1. AND - More than one condition must be True"
   ]
  },
  {
   "cell_type": "code",
   "execution_count": null,
   "id": "41821c2e-d830-4276-ae9b-dcb578671beb",
   "metadata": {},
   "outputs": [],
   "source": [
    "iteration = 0\n",
    "x = 3\n",
    "while iteration < 10 and x < 150:\n",
    "    x = x + x\n",
    "    iteration += 1 \n",
    "    print(\"x: \"+str(x))\n",
    "    print(\"Iteration: \"+str(iteration))"
   ]
  },
  {
   "cell_type": "markdown",
   "id": "85813040-f20e-4729-81de-d0bade592bdf",
   "metadata": {},
   "source": [
    "#### 2. OR - Either Condition can be True"
   ]
  },
  {
   "cell_type": "code",
   "execution_count": null,
   "id": "d8a4a195-dc1b-4f2a-a462-cf2e9305b2d0",
   "metadata": {},
   "outputs": [],
   "source": [
    "iteration = 0\n",
    "x = 3\n",
    "while iteration < 10 or x < 150:\n",
    "    x = x + x\n",
    "    iteration += 1 \n",
    "    print(\"x: \"+str(x))\n",
    "    print(\"Iteration: \"+str(iteration))"
   ]
  },
  {
   "cell_type": "markdown",
   "id": "c548ae9f-66d1-4de1-9a85-865374c082ee",
   "metadata": {},
   "source": [
    "#### 3. NOT\n",
    "Logical operator in Python that negates a boolean value. It returns True if the given expression evaluates to False and vice versa."
   ]
  },
  {
   "cell_type": "code",
   "execution_count": null,
   "id": "5dd7ee7a-1dd7-46e7-97c3-99b1dfbacc16",
   "metadata": {},
   "outputs": [],
   "source": [
    "x = 15\n",
    "y = 10\n",
    "if not x > y:\n",
    "    print(str(x)+ \" is less than or equal to \" +str(y))\n",
    "else:\n",
    "    print(str(x)+ \" is greater than \" +str(y))"
   ]
  },
  {
   "cell_type": "markdown",
   "id": "f15878aa-b525-47e7-9b79-b11196782640",
   "metadata": {},
   "source": [
    "#### 4. IS \n",
    "The is operator is used to compare object identities, meaning it checks whether two variables reference the same object in memory, not just if they have the same value.\n",
    "**Note:** None is a special singleton object that represents the absence of a value or \"nothing.\""
   ]
  },
  {
   "cell_type": "code",
   "execution_count": null,
   "id": "044bd6c8-bcf5-40a1-a5b7-f20523f6769f",
   "metadata": {},
   "outputs": [],
   "source": [
    "x = None\n",
    "if x is None:\n",
    "    print(\"x is None\")  # Best practice: use 'is' for None comparisons"
   ]
  },
  {
   "cell_type": "markdown",
   "id": "1b06e342-480b-41c4-9c28-7618acfe8a45",
   "metadata": {},
   "source": [
    "#### *Try it Yourself*\n",
    "*Create an if statement or while loop that uses one or more logical operators. Be creative!*"
   ]
  },
  {
   "cell_type": "code",
   "execution_count": null,
   "id": "1ddaf410-ef1d-4b97-8516-f7bbdf7f8c07",
   "metadata": {},
   "outputs": [],
   "source": [
    "# Add code to this cell"
   ]
  },
  {
   "cell_type": "markdown",
   "id": "289bdbe6-23e8-4613-b5ff-6e936b3c8276",
   "metadata": {},
   "source": [
    "***\n",
    "### Lists\n",
    "Storing multiple values of one or more data types "
   ]
  },
  {
   "cell_type": "code",
   "execution_count": null,
   "id": "58e675c5-4361-4fd3-a0e0-438fdbe88021",
   "metadata": {},
   "outputs": [],
   "source": [
    "my_list = [1, True, 3, 'Denver', 5]\n",
    "print(\"List contents:\", my_list)\n",
    "print(\"First element:\", my_list[0]) #print the first element, i.e. index 0 (python uses zero-indexing)"
   ]
  },
  {
   "cell_type": "markdown",
   "id": "7087aabb-b162-4344-b1d1-4914b899175e",
   "metadata": {},
   "source": [
    "#### *Try it Yourself*\n",
    "*Create a list of 5 elements and print the 3rd element (Hint: the third element would be index '2')*"
   ]
  },
  {
   "cell_type": "code",
   "execution_count": null,
   "id": "abb901a1-1976-4b66-82ed-e3146395b5d1",
   "metadata": {},
   "outputs": [],
   "source": [
    "# Add code to this cell"
   ]
  },
  {
   "cell_type": "markdown",
   "id": "a5c4356f-652a-4ac0-8c6b-9b166922f690",
   "metadata": {},
   "source": [
    "***\n",
    "### For Loops\n",
    "#### 1. Looping through a list"
   ]
  },
  {
   "cell_type": "code",
   "execution_count": null,
   "id": "bf5f708e-68e4-4a15-b4ec-2358fefd41bc",
   "metadata": {},
   "outputs": [],
   "source": [
    "fruits = [\"apple\", \"banana\", \"cherry\"]\n",
    "for fruit in fruits: # for each element in the list 'fruits'\n",
    "    print(fruit) # print the individual element "
   ]
  },
  {
   "cell_type": "markdown",
   "id": "552ac2d5-0c95-49e7-b235-14b9e29bee1c",
   "metadata": {},
   "source": [
    "#### 2. Looping through a range of numbers (starting a 0)"
   ]
  },
  {
   "cell_type": "code",
   "execution_count": null,
   "id": "92d0a966-f590-4227-ab0b-996abbc49466",
   "metadata": {},
   "outputs": [],
   "source": [
    "for i in range(5):  # Loops from 0 to 4\n",
    "    print(i)"
   ]
  },
  {
   "cell_type": "markdown",
   "id": "73765108-c78a-4cc2-a446-c6099e52374d",
   "metadata": {},
   "source": [
    "#### 3. Looping through a range of numbers (specified range)"
   ]
  },
  {
   "cell_type": "code",
   "execution_count": null,
   "id": "886ac760-2eb5-42b6-8a13-21a38f49d77f",
   "metadata": {},
   "outputs": [],
   "source": [
    "for i in range(25,30):  # Loops from 25 to 29\n",
    "    print(i)"
   ]
  },
  {
   "cell_type": "markdown",
   "id": "e26ca772-8279-4d6b-a463-805679c114e1",
   "metadata": {},
   "source": [
    "#### 4. Looping through a string"
   ]
  },
  {
   "cell_type": "code",
   "execution_count": null,
   "id": "2c3986e0-76d8-4288-baa8-32abe785f972",
   "metadata": {},
   "outputs": [],
   "source": [
    "word = \"Python\"\n",
    "for letter in word:\n",
    "    print(letter)"
   ]
  },
  {
   "cell_type": "markdown",
   "id": "0f759613-6770-42fe-9f26-8318b75c766b",
   "metadata": {},
   "source": [
    "#### 5. Using range(start, stop, step)"
   ]
  },
  {
   "cell_type": "code",
   "execution_count": null,
   "id": "7b213df1-bf62-48a0-9b3c-1d5bb02bbc44",
   "metadata": {},
   "outputs": [],
   "source": [
    "for num in range(1, 10, 2):  # Start at 1, stop before 10, step by 2\n",
    "    print(num)"
   ]
  },
  {
   "cell_type": "markdown",
   "id": "7aa7cbbc-4b51-4879-8033-5f839b9570de",
   "metadata": {},
   "source": [
    "#### *Try it Yourself*\n",
    "*Create a for loop that prints individual elements of a list, range of numbers, or a string.*"
   ]
  },
  {
   "cell_type": "code",
   "execution_count": null,
   "id": "07758219-e9fb-4590-89e4-96891d96782b",
   "metadata": {},
   "outputs": [],
   "source": [
    "# Add code to this cell"
   ]
  },
  {
   "cell_type": "markdown",
   "id": "e4ca22d8-853b-4ee3-bebb-4860f9ca9b28",
   "metadata": {},
   "source": [
    "***\n",
    "### List Comprehensions\n",
    "A concise way to create lists in Python using a single line of code. It allows you to build a new list by applying an expression to each item in an existing iterable (like a list, range, or string) with an optional condition."
   ]
  },
  {
   "cell_type": "code",
   "execution_count": null,
   "id": "3e90dc07-43db-4d56-b61a-d1199dfa310e",
   "metadata": {},
   "outputs": [],
   "source": [
    "# Without list comprehension\n",
    "squares = []\n",
    "for i in range(5):\n",
    "    squares.append(i**2)\n",
    "print(squares)  # Output: [0, 1, 4, 9, 16]\n",
    "\n",
    "# With list comprehension\n",
    "squares = [i**2 for i in range(5)]\n",
    "print(squares)  # Output: [0, 1, 4, 9, 16]"
   ]
  },
  {
   "cell_type": "markdown",
   "id": "31d472bc-08b1-41d0-aff1-0ec5d420787c",
   "metadata": {},
   "source": [
    "#### *Try it Yourself*\n",
    "*Create a list, using list comprehension, that includes all odd numbers between 0 and 10. Then print it.*"
   ]
  },
  {
   "cell_type": "code",
   "execution_count": null,
   "id": "28efe909-febf-4564-9177-490b496c2201",
   "metadata": {},
   "outputs": [],
   "source": [
    "# Add code to this cell"
   ]
  },
  {
   "cell_type": "markdown",
   "id": "e90fce96-81a6-4e00-b3d5-da81f88e0abe",
   "metadata": {},
   "source": [
    "***\n",
    "### Dictionaries\n",
    "Dictionaries store key-value pairs\n",
    "#### 1. Create a dictionary"
   ]
  },
  {
   "cell_type": "code",
   "execution_count": null,
   "id": "ac76aa9b-6136-4a64-8259-0cb7bc26f0b7",
   "metadata": {},
   "outputs": [],
   "source": [
    "# Dictionaries store key-value pairs\n",
    "student = {\n",
    "    \"name\": \"John Doe\",\n",
    "    \"age\": 21,\n",
    "    \"major\": \"Computer Science\",\n",
    "    \"GPA\": 3.8\n",
    "}\n",
    "print(student) # print entire dictionary\n",
    "print(student['name']) # print the value for the key, 'name'\n",
    "print(student['GPA']) # print the value for the key, 'GPA'"
   ]
  },
  {
   "cell_type": "markdown",
   "id": "a140f392-1ef4-4d49-83a9-293eb9e51281",
   "metadata": {},
   "source": [
    "#### 2. Add a new Key-value Pair"
   ]
  },
  {
   "cell_type": "code",
   "execution_count": null,
   "id": "aea59748-4515-4d0b-b7ce-6c69823b4241",
   "metadata": {},
   "outputs": [],
   "source": [
    "student[\"graduation_year\"] = 2025\n",
    "print(student)"
   ]
  },
  {
   "cell_type": "markdown",
   "id": "fcff7d00-01e3-423a-86a7-61c7445f9ca3",
   "metadata": {},
   "source": [
    "#### 3. Looping through a Dictionary\n",
    "Includes an example of f-string formatting, which allows inserting variables directly into a string."
   ]
  },
  {
   "cell_type": "code",
   "execution_count": null,
   "id": "02bf4504-56ad-4efc-ad44-7345462ceb20",
   "metadata": {},
   "outputs": [],
   "source": [
    "for key, value in student.items():\n",
    "    print(f\"{key}: {value}\") # f-string formatting "
   ]
  },
  {
   "cell_type": "markdown",
   "id": "1037ffcb-6db0-46e6-839d-7077a2464015",
   "metadata": {},
   "source": [
    "#### *Try it Yourself*\n",
    "*Create a dictionary and print out the value for a specific key.*"
   ]
  },
  {
   "cell_type": "code",
   "execution_count": null,
   "id": "4ea7767f-abba-4d3d-a514-e164a487fb6f",
   "metadata": {},
   "outputs": [],
   "source": [
    "# Add code to this cell"
   ]
  },
  {
   "cell_type": "markdown",
   "id": "75a860fd-ad66-4d4e-924c-164ceb076cde",
   "metadata": {},
   "source": [
    "***\n",
    "## Functions\n",
    "In Python, a function is a reusable block of code that performs a specific task. Functions allow you to organize your code, make it more modular, and avoid repetition.\n",
    "\n",
    "### Defining a Function\n",
    "Below we create an example function that calculates the slope of a line given two points. \n",
    "* **def** indicates that we are defining a function.\n",
    "* **Arguments**, i.e. input values, for the function are specified in parenthesis, separated by commas\n",
    "* This first line defining the function must end with a colon (:)\n",
    "* **return** is often used at the end of a function to return one or more values to where the function is called. \n",
    "\n",
    "**Note:** We can create blocks of comment text in python, by surrounding it by \"\"\" \"\"\" (see below). \n"
   ]
  },
  {
   "cell_type": "code",
   "execution_count": null,
   "id": "71b0cf8b-5dec-4a26-b9cb-fe27ccbf7610",
   "metadata": {},
   "outputs": [],
   "source": [
    "def calculate_slope(x1, y1, x2, y2):\n",
    "    \"\"\"\n",
    "    Calculates the slope of a line given two points (x1, y1) and (x2, y2).\n",
    "    \n",
    "    :param x1: x-coordinate of the first point.\n",
    "    :param y1: y-coordinate of the first point.\n",
    "    :param x2: x-coordinate of the second point.\n",
    "    :param y2: y-coordinate of the second point.\n",
    "    :return: The slope of the line.\n",
    "    \"\"\"\n",
    "    # Check if the line is vertical (x1 == x2), which would cause division by zero\n",
    "    if x1 == x2:\n",
    "        raise ValueError(\"The line is vertical, slope is undefined.\")\n",
    "    \n",
    "    # Calculate the slope using the formula (y2 - y1) / (x2 - x1)\n",
    "    slope = (y2 - y1) / (x2 - x1)\n",
    "    return slope  # returns the variabe value after the function completes"
   ]
  },
  {
   "cell_type": "markdown",
   "id": "2e566e59-1ced-4f34-969c-b0faad3d6d0b",
   "metadata": {},
   "source": [
    "### Using a Defined Function"
   ]
  },
  {
   "cell_type": "code",
   "execution_count": null,
   "id": "27597edd-a48b-43d1-9267-1a0ec6e0997f",
   "metadata": {},
   "outputs": [],
   "source": [
    "my_x1 = 5\n",
    "my_y1 = 10\n",
    "my_x2 = 7\n",
    "my_y2 = -14\n",
    "slope = calculate_slope(my_x1, my_y1, my_x2, my_y2) # the output of a function can be saved to a new variable\n",
    "print(slope)"
   ]
  },
  {
   "cell_type": "markdown",
   "id": "c4188810-93ca-4604-bedb-b68666412b31",
   "metadata": {},
   "source": [
    "#### *Try it Yourself - Putting Coding Pieces*\n",
    "* Create and call a function takes **weight** and **height** as arguments and calculates Body Mass Index (BMI), returning both the **BMI value** and **BMI category**.\n",
    "* BMI categories can be defined as:\n",
    "    * BMI < 18.5 is Underweight\n",
    "    * 18.5 <= BMI < 24.9 is Normal Weight\n",
    "    * 24.9 <= BMI < 29.9 is Overweight\n",
    "    * BMI >= 29.9 is Obese"
   ]
  },
  {
   "cell_type": "code",
   "execution_count": null,
   "id": "ee491897-4d7e-4209-b959-9d4691e2d9a4",
   "metadata": {},
   "outputs": [],
   "source": [
    "# Add code to this cell"
   ]
  },
  {
   "cell_type": "markdown",
   "id": "0ad0b4d3-c557-4fdf-9f97-f413ccffab5a",
   "metadata": {},
   "source": [
    "### Appending Values to a List & Creating a More Complicated Function\n",
    "* The **append()** function adds a new value to a list, increasing it's length."
   ]
  },
  {
   "cell_type": "code",
   "execution_count": null,
   "id": "09e4a005-712f-4d99-9c10-9680c7d02b88",
   "metadata": {},
   "outputs": [],
   "source": [
    "def process_numbers(numbers, threshold):\n",
    "    \"\"\"\n",
    "    Processes a list of numbers. Doubles the even numbers, triples the odd numbers,\n",
    "    and checks if the sum of the numbers is greater than a given threshold.\n",
    "    \n",
    "    :param numbers: A list of numbers to process.\n",
    "    :param threshold: A number to compare the sum against.\n",
    "    :return: A tuple containing the processed list and a boolean indicating \n",
    "             if the sum exceeds the threshold.\n",
    "    \"\"\"\n",
    "    processed_numbers = []  # Initializes and empty list to store the processed numbers\n",
    "    total_sum = 0  # Variable to accumulate the sum of the numbers\n",
    "\n",
    "    # Loop through the numbers in the list\n",
    "    for num in numbers:\n",
    "        if num % 2 == 0:  # Check if the number is even\n",
    "            processed_number = num * 2  # Double the number\n",
    "        else:\n",
    "            processed_number = num * 3  # Triple the number\n",
    "        \n",
    "        processed_numbers.append(processed_number)  # Add the processed number to the list\n",
    "        total_sum += processed_number  # Add the processed number to the total sum\n",
    "    \n",
    "    # Check if the total sum is greater than the threshold\n",
    "    is_greater_than_threshold = total_sum > threshold\n",
    "    \n",
    "    return processed_numbers, is_greater_than_threshold # Returns two separate variables"
   ]
  },
  {
   "cell_type": "code",
   "execution_count": null,
   "id": "049c4041-4ee9-4b08-99d4-9b931b752dd3",
   "metadata": {},
   "outputs": [],
   "source": [
    "numbers = [1, 2, 3, 4, 5]\n",
    "threshold = 30\n",
    "\n",
    "# Call the function\n",
    "processed_numbers, exceeds_threshold = process_numbers(numbers, threshold)\n",
    "\n",
    "print(\"Processed numbers:\", processed_numbers)\n",
    "print(\"Does the sum exceed the threshold?\", exceeds_threshold)"
   ]
  },
  {
   "cell_type": "markdown",
   "id": "4e8d5fb1-d7cf-4384-9c32-5caaef87e536",
   "metadata": {},
   "source": [
    "***\n",
    "## Importing and Using Libraries & Modules\n",
    "A Python library is a collection of modules (files containing Python code) that provide pre-written functions and tools to perform specific tasks, saving time and effort when writing code.\n",
    "* Libraries are most commonly imported at the beginning of a Jupyter Notebook (or Python script), by convention, but they can be imported as needed (as done here). \n",
    "\n",
    "Libraries can include functions for:\n",
    "* Mathematics & Statistics (e.g., math, numpy)\n",
    "* Data Manipulation (e.g., pandas)\n",
    "* Machine Learning & AI (e.g., scikit-learn, tensorflow)\n",
    "* Web Development (e.g., flask, django)\n",
    "* Visualization (e.g., matplotlib, seaborn)\n",
    "\n",
    "Many libraries have already been installed on your computer as part of the Anaconda installation, however many more exist users may with to install using **conda** or **pip**. \n",
    "\n",
    "Below we give a few examples of importing libraries (that have already been installed with the Anaconda installation). "
   ]
  },
  {
   "cell_type": "markdown",
   "id": "485d3192-cebb-45b0-a499-292e4da584cb",
   "metadata": {},
   "source": [
    "***\n",
    "### Library Example: Math"
   ]
  },
  {
   "cell_type": "code",
   "execution_count": null,
   "id": "111ae5bb-6dd8-4560-b1ae-dfa23c25d62e",
   "metadata": {},
   "outputs": [],
   "source": [
    "import math # Imports are normally put in the first code cell of the notebook by convention\n",
    "\n",
    "print(math.sqrt(25))       # Output: 5.0 (Square root of 25)\n",
    "print(math.pi)             # Output: 3.141592653589793 (Value of Pi)\n",
    "print(math.sin(math.radians(30)))  # Output: 0.5 (Sine of 30 degrees)"
   ]
  },
  {
   "cell_type": "markdown",
   "id": "6524b957-309a-45b7-a5bc-b997af71b2ba",
   "metadata": {},
   "source": [
    "***\n",
    "### Library Example: Random"
   ]
  },
  {
   "cell_type": "code",
   "execution_count": null,
   "id": "330a95d9-4452-4cee-81b0-ad6deb5af7b0",
   "metadata": {},
   "outputs": [],
   "source": [
    "import random # Imports are normally put in the first code cell of the notebook by convention\n",
    "\n",
    "print(random.randint(1, 10))     # Random integer between 1 and 10\n",
    "print(random.choice([\"apple\", \"banana\", \"cherry\"]))  # Random choice from a list\n",
    "print(random.uniform(1.5, 5.5))  # Random float between 1.5 and 5.5"
   ]
  },
  {
   "cell_type": "markdown",
   "id": "59fc57e6-e421-4b0a-8bcf-bfe97e6853b0",
   "metadata": {},
   "source": [
    "***\n",
    "### Library Example: OS - Interacting with the operating system"
   ]
  },
  {
   "cell_type": "code",
   "execution_count": null,
   "id": "83fab4c1-17d7-4224-80de-dedeccc00770",
   "metadata": {},
   "outputs": [],
   "source": [
    "import os # Imports are normally put in the first code cell of the notebook by convention\n",
    "\n",
    "print(os.getcwd())   # Output: Current working directory\n",
    "print(os.listdir())  # Output: List of files in the current directory"
   ]
  },
  {
   "cell_type": "markdown",
   "id": "c5f382bf-bb99-49b5-97f8-71d1213cb5a2",
   "metadata": {},
   "source": [
    "***\n",
    "### Library Example: Numpy - Working with Arrays\n",
    "* Somewhat different from **lists**, **arrays**:\n",
    "    * Store only one data type (e.g., all int or all float)\n",
    "    * Are faster for numerical computations\n",
    "    * Use less memory due to fixed data type\n",
    "    * Support element-wise operations directly (no need for loops)\n",
    "    * Are best for numerical and scientific computing"
   ]
  },
  {
   "cell_type": "code",
   "execution_count": null,
   "id": "6c486e3c-1c6b-4d83-b2f0-11f2287df613",
   "metadata": {},
   "outputs": [],
   "source": [
    "import numpy as np # Libraries can be imported and assigned a different name for calling\n",
    "\n",
    "arr = np.array([1, 2, 3, 4])\n",
    "print(arr * 2)  # Output: [2 4 6 8] (Element-wise multiplication)"
   ]
  },
  {
   "cell_type": "markdown",
   "id": "00ff6a75-10a0-4a5c-84c9-967968bbe3aa",
   "metadata": {},
   "source": [
    "***\n",
    "### Library Example: Pandas - Working with DataFrames\n",
    "A **DataFrame** is a tabular data structure provided by the pandas library. It is similar to a table in a database, an Excel spreadsheet, or an R DataFrame."
   ]
  },
  {
   "cell_type": "code",
   "execution_count": null,
   "id": "1857ab67-c46a-421c-b561-d0b973f4681d",
   "metadata": {},
   "outputs": [],
   "source": [
    "import pandas as pd # Imports are normally put in the first code cell of the notebook by convention\n",
    "\n",
    "data = {'Name': ['Alice', 'Bob', 'Charlie'], 'Age': [25, 30, 35]}\n",
    "df = pd.DataFrame(data)\n",
    "\n",
    "print(df)"
   ]
  },
  {
   "cell_type": "markdown",
   "id": "c536d4c4-8f17-4148-8fed-d43d8286e1aa",
   "metadata": {},
   "source": [
    "***\n",
    "### Library Example: Matplotlib - Plotting Graphs\n",
    "The matplotlib.pyplot module helps create visualizations."
   ]
  },
  {
   "cell_type": "code",
   "execution_count": null,
   "id": "b134c2c5-dd76-4bc3-b250-e33062fdd803",
   "metadata": {},
   "outputs": [],
   "source": [
    "import matplotlib.pyplot as plt # Imports are normally put in the first code cell of the notebook by convention\n",
    "\n",
    "x = [1, 2, 3, 4]\n",
    "y = [10, 20, 25, 30]\n",
    "\n",
    "plt.plot(x, y, marker='o')  # Plot a line graph with points\n",
    "plt.xlabel(\"X-axis\")\n",
    "plt.ylabel(\"Y-axis\")\n",
    "plt.title(\"Simple Line Plot\")\n",
    "plt.show()"
   ]
  },
  {
   "cell_type": "markdown",
   "id": "d0e5f2bc-57ee-47e7-b6e8-220816d33310",
   "metadata": {},
   "source": [
    "***\n",
    "## Using ChatGPT to Get Python Coding Examples\n",
    "ChatGPT is an example of a large language model (LLM) that can be very useful for learning more about writing python code and directly generating example code for completing specific tasks. \n",
    "\n",
    "Below we give some examples of requests that might be provided to ChatGPT to get it to generate some useful python code. "
   ]
  },
  {
   "cell_type": "markdown",
   "id": "bd24660b-c79c-472f-9ff0-7f1d15e4106f",
   "metadata": {},
   "source": [
    "***\n",
    "### Example: Get the area under a line plot.\n",
    "**ChatGPT Prompt:** Show me how to write python code that calculates the area under a line plot."
   ]
  },
  {
   "cell_type": "markdown",
   "id": "7deed27c-6c58-44d0-8e0f-4089a175bf04",
   "metadata": {},
   "source": [
    "***\n",
    "### Example: Get the p-value for a T-test comparison.\n",
    "**ChatGPT Prompt:** Show me how to write python code that calculates the p-value between two sets of values using a t-test."
   ]
  },
  {
   "cell_type": "markdown",
   "id": "7df042e8-9f88-4ca4-97f1-387fe6b40ee0",
   "metadata": {},
   "source": [
    "***\n",
    "### Example: Generating a clustered heatmap of gene expression data with two treatement groups.\n",
    "**ChatGPT Prompt:** Show me example python code on how to generate a hierarchically clustered heatmap of gene expression data comparing treated and untreated groups."
   ]
  },
  {
   "cell_type": "markdown",
   "id": "e257b9f4-5f86-4b0d-9865-7175d62410dd",
   "metadata": {},
   "source": [
    "***\n",
    "### Example: Get the average of values in a specific dataframe column.\n",
    "**ChatGPT Prompt:** Show me how to write python code that gets the average of a specific column within a dataframe"
   ]
  },
  {
   "cell_type": "markdown",
   "id": "f1a9224f-6449-4497-a228-6ee3570d5b02",
   "metadata": {},
   "source": [
    "***\n",
    "***\n",
    "# Using Python for Data Science (Workshop 3)\n",
    "The sections below are primarily meant to pair with the \"Essentials of Machine Learning\" Workshop, but you can skip ahead and try running these cells.\n",
    "\n",
    "In this section we provide a brief demonstration of just some of the many steps that might be included in a machine learning/data science analysis pipeline. \n",
    "***\n",
    "### Loading a Dataset\n",
    "As a demonstration we use a small public hepatocellular carcinoma (HCC) dataset taken from the UCI repository. \n",
    "* This dataset has a binary class 'outcome' (1 = patint survived, and 0 = patient died)\n",
    "* The data file we will use is in the same folder as this notebook, and is called **hcc_data.csv**\n",
    "* **Note:** Typically, it is important to identify whether variables in the dataset are **categorical** or **numeric**, as this can impact how we process and analyze the dataset.  Binary variables can be reliably be treated as either. For the purposes of this demonstration we will assume all variables are **numeric**."
   ]
  },
  {
   "cell_type": "code",
   "execution_count": null,
   "id": "7ad9fac2-2f8a-4878-b02a-27617fe0f3f4",
   "metadata": {},
   "outputs": [],
   "source": [
    "# Load the CSV file into a DataFrame\n",
    "df = pd.read_csv(\"hcc_data.csv\")  # Since the file is in the same directory as this notebook we can just load it by name (without a file path)\n",
    "\n",
    "# Get the number of rows and columns in the dataset\n",
    "num_rows, num_columns = df.shape\n",
    "print(f\"The dataset contains {num_rows} rows and {num_columns} columns.\")"
   ]
  },
  {
   "cell_type": "code",
   "execution_count": null,
   "id": "bae757ed-96c7-42d3-a549-16b8408b5aa8",
   "metadata": {},
   "outputs": [],
   "source": [
    "# Display the first 5 rows of the dataset\n",
    "print(df.head())"
   ]
  },
  {
   "cell_type": "markdown",
   "id": "90c05007-6a9a-45ae-89da-4f443bec0f4c",
   "metadata": {},
   "source": [
    "***\n",
    "### Basic Exploratory Data Analysis\n",
    "#### 1. Basic Dataset Information For all Columns (i.e. Variables)"
   ]
  },
  {
   "cell_type": "code",
   "execution_count": null,
   "id": "312e9f20-6ec1-409c-9702-6c9addf83ae2",
   "metadata": {
    "scrolled": true
   },
   "outputs": [],
   "source": [
    "# Get basic information about the dataset\n",
    "print(df.info())"
   ]
  },
  {
   "cell_type": "markdown",
   "id": "4bba12d3-2847-424f-bcf2-ac3e21a2ecda",
   "metadata": {},
   "source": [
    "#### 2. Missing Value Counts"
   ]
  },
  {
   "cell_type": "code",
   "execution_count": null,
   "id": "c60ff9c4-0dc7-402f-99c6-25caa9f6d6cd",
   "metadata": {},
   "outputs": [],
   "source": [
    "# Check for missing values\n",
    "print(\"Missing Values in Each Column:\")\n",
    "print(df.isnull().sum())\n",
    "\n",
    "# Calculate the total number of missing values\n",
    "total_missing = df.isnull().sum().sum()\n",
    "print(\"Total Number of Missing Values in Dataset: \"+str(total_missing))"
   ]
  },
  {
   "cell_type": "markdown",
   "id": "9c678d1b-0be5-4fdf-ad2d-8475eb4714e1",
   "metadata": {},
   "source": [
    "#### 3. Summary Statistics for Numerical Columns"
   ]
  },
  {
   "cell_type": "code",
   "execution_count": null,
   "id": "219d3d8b-0560-40a1-b861-c2214ea7abd7",
   "metadata": {},
   "outputs": [],
   "source": [
    "# Generate basic statistics for numerical columns\n",
    "print(\"Summary Statistics for Numerical Columns:\")\n",
    "print(df.describe())"
   ]
  },
  {
   "cell_type": "markdown",
   "id": "76d183a0-d877-46a0-abbd-893ac124e4c9",
   "metadata": {},
   "source": [
    "#### 4. Bar Plot of Class Counts"
   ]
  },
  {
   "cell_type": "code",
   "execution_count": null,
   "id": "cfe9937a-9529-48f0-acea-38f181068bfe",
   "metadata": {
    "scrolled": true
   },
   "outputs": [],
   "source": [
    "import seaborn as sns # Imports are normally put in the first code cell of the notebook by convention\n",
    "\n",
    "# Define the column containing class labels (replace 'ClassColumn' with your actual column name)\n",
    "class_column = \"Class\"  # Change this to match your dataset\n",
    "\n",
    "# Count the occurrences of each class\n",
    "class_counts = df[class_column].value_counts()\n",
    "\n",
    "# Plot the bar chart\n",
    "plt.figure(figsize=(8, 6))\n",
    "sns.barplot(x=class_counts.index, y=class_counts.values)\n",
    "\n",
    "# Add labels and title\n",
    "plt.xlabel(\"Class Labels\", fontsize=12)\n",
    "plt.ylabel(\"Count\", fontsize=12)\n",
    "plt.title(\"Class Distribution\", fontsize=14)\n",
    "plt.xticks(rotation=45)  # Rotate labels if needed\n",
    "\n",
    "# Show the plot\n",
    "plt.show()"
   ]
  },
  {
   "cell_type": "markdown",
   "id": "f45b0145-4778-4fa2-bfd4-4670916c79a9",
   "metadata": {},
   "source": [
    "***\n",
    "### Basic Data Cleaning (Of Missing Values)\n",
    "#### 1. Checking Whether Removing Rows with Missing Values is Viable"
   ]
  },
  {
   "cell_type": "code",
   "execution_count": null,
   "id": "55673d2a-81a1-4caf-94f9-4d9eb03585c3",
   "metadata": {},
   "outputs": [],
   "source": [
    "# Print number of rows (i.e. instances/samples) in the original dataset\n",
    "print(\"Number of rows in original dataset: \"+str(df.shape[0]))\n",
    "\n",
    "# Remove rows with any missing values\n",
    "df_cleaned = df.dropna()\n",
    "\n",
    "# Count the number of rows that have no missing values\n",
    "num_rows_no_missing = df_cleaned.shape[0]\n",
    "print(\"Number of rows with no missing values: \"+str(num_rows_no_missing))"
   ]
  },
  {
   "cell_type": "markdown",
   "id": "19049b67-5050-4095-b782-55d7ac8a2ca0",
   "metadata": {},
   "source": [
    "Here we can see that simply removing any rows with missing values leaves us with very few rows to do anything with. So instead, for the purposes of this demonstration we will **impute** (i.e. make an educated guess) regarding these missing values, replacing them with substitute values. "
   ]
  },
  {
   "cell_type": "markdown",
   "id": "5933fd2c-8db5-4cc8-9eed-256c2c776f4f",
   "metadata": {},
   "source": [
    "#### 2. Imputing Missing Values\n",
    "* Given that we are assuming all variables are **numeric** we are opting here to use simple **median imputation**\n",
    "* For categorical variables, a simple imputation strategy could include **mode imputation**"
   ]
  },
  {
   "cell_type": "code",
   "execution_count": null,
   "id": "e041df09-6a36-47bc-b476-18a6bcd437d9",
   "metadata": {},
   "outputs": [],
   "source": [
    "# Apply median imputation to create a new dataframe\n",
    "df_imputed = df.fillna(df.median())\n",
    "\n",
    "# Check the total number of missing values in the new dataframe\n",
    "new_total_missing = df_imputed.isnull().sum().sum()\n",
    "print(\"Total Number of Missing Values in Dataset: \"+str(new_total_missing))"
   ]
  },
  {
   "cell_type": "markdown",
   "id": "3da87ab9-2e58-411b-ac13-db3a294f752a",
   "metadata": {},
   "source": [
    "***\n",
    "### Unsupervised Learning - Principle Component Analysis & K-Means Clustering\n",
    "Here we also see yet another way to import useful code, specifically, **StandardScalar**, **PCA**, and **KMeans**. \n",
    "\n",
    "e.g. **from sklearn.cluster:** This part tells Python to import from the cluster submodule of the sklearn (scikit-learn) library. The cluster submodule contains algorithms related to clustering (grouping data based on similarities)."
   ]
  },
  {
   "cell_type": "code",
   "execution_count": null,
   "id": "5a031113-fb36-4653-a13b-915e2f2787e0",
   "metadata": {},
   "outputs": [],
   "source": [
    "from sklearn.preprocessing import StandardScaler # Imports are normally put in the first code cell of the notebook by convention\n",
    "from sklearn.decomposition import PCA\n",
    "from sklearn.cluster import KMeans\n",
    "\n",
    "# Create a new DataFrame without the 'Class' column\n",
    "df_x = df_imputed.drop(columns=[class_column])\n",
    "\n",
    "# Standardize the data\n",
    "scaler = StandardScaler()\n",
    "X_scaled = scaler.fit_transform(df_x)\n",
    "\n",
    "# Apply PCA for dimensionality reduction (optional)\n",
    "pca = PCA(n_components=2)\n",
    "X_pca = pca.fit_transform(X_scaled)\n",
    "\n",
    "# Apply KMeans clustering\n",
    "kmeans = KMeans(n_clusters=2, random_state=42)\n",
    "clusters = kmeans.fit_predict(X_scaled)\n",
    "\n",
    "# Visualize the clusters\n",
    "plt.figure(figsize=(8, 6))\n",
    "plt.scatter(X_pca[:, 0], X_pca[:, 1], c=clusters, cmap='viridis', marker='o', alpha=0.5)\n",
    "plt.xlabel('Principal Component 1')\n",
    "plt.ylabel('Principal Component 2')\n",
    "plt.title('KMeans Clustering')\n",
    "plt.colorbar(label='Cluster')\n",
    "plt.show()"
   ]
  },
  {
   "cell_type": "markdown",
   "id": "b5dd145e-7d59-47ee-b09c-5d32c72cda0d",
   "metadata": {},
   "source": [
    "***\n",
    "### Train and Evaluate Machine Learning Models (with 3-fold Cross Validation)\n",
    "Below is a function to train and evaluate machine learning models when passed the following arguments:\n",
    "* **local_df:** A target dataframe (with feature columns and an outcome column)\n",
    "* **n_splits:** The number of cross validation (training and testing) data partitions\n",
    "* **model:** A specific machine learning algorithm, e.g. decision tree, random forest, etc.\n",
    "\n",
    "Once called, this function does the following:\n",
    "* Separate the potentially predictive variables (i.e. features, 'X'), from the outcome (i.e. class, 'y')\n",
    "* Initialize lists to store evaluation metrics for each CV partition\n",
    "* Creation of training and testing data splits for each CV partition\n",
    "* Fitting (i.e. training) the model on training data\n",
    "* Applying the trained model to make predictions on testing data\n",
    "* Calculating evaluation metrics for the model's predictive performace\n",
    "* Ultimately averaging evaluation metrics across all CV partitions and reporting performance\n",
    "\n",
    "Here we are using another important library, **sklearn** (otherwise known as scikit-learn) that includes many useful machine learning algorithms and related methods.\n",
    "#### 1. Define Function "
   ]
  },
  {
   "cell_type": "code",
   "execution_count": null,
   "id": "42ef5055-38da-4594-b5c1-24b43454d0bc",
   "metadata": {},
   "outputs": [],
   "source": [
    "from sklearn.model_selection import KFold # Imports are normally put in the first code cell of the notebook by convention\n",
    "from sklearn.metrics import accuracy_score, balanced_accuracy_score, precision_score, recall_score, f1_score\n",
    "\n",
    "def train_model(local_df, n_splits, model):\n",
    "    # Split data into features and target\n",
    "    X = local_df.drop(columns=['Class'])\n",
    "    y = local_df['Class']\n",
    "\n",
    "    # Initialize evaluation metrics lists\n",
    "    accuracies = []\n",
    "    balanced_accuracies = []\n",
    "    precisions = []\n",
    "    recalls = []\n",
    "    f1_scores = []\n",
    "\n",
    "    # Initialize KFold cross-validation\n",
    "    kf = KFold(n_splits=n_splits, shuffle=True, random_state=42)\n",
    "    \n",
    "    # Iterate over each fold of cross-validation\n",
    "    for train_index, test_index in kf.split(X):\n",
    "        # Split data into train and test sets for this fold\n",
    "        X_train, X_test = X.iloc[train_index], X.iloc[test_index]\n",
    "        y_train, y_test = y.iloc[train_index], y.iloc[test_index]\n",
    "\n",
    "        model.fit(X_train, y_train)\n",
    "\n",
    "        # Predict on the testing data\n",
    "        y_pred = model.predict(X_test)\n",
    "\n",
    "        # Calculate evaluation metrics\n",
    "        accuracies.append(accuracy_score(y_test, y_pred))\n",
    "        balanced_accuracies.append(balanced_accuracy_score(y_test, y_pred))\n",
    "        precisions.append(precision_score(y_test, y_pred, average='weighted'))\n",
    "        recalls.append(recall_score(y_test, y_pred, average='weighted'))\n",
    "        f1_scores.append(f1_score(y_test, y_pred, average='weighted'))\n",
    "        \n",
    "    # Calculate average evaluation metrics\n",
    "    avg_accuracy = sum(accuracies) / len(accuracies)\n",
    "    avg_balanced_accuracy = sum(balanced_accuracies) / len(balanced_accuracies)\n",
    "    avg_precision = sum(precisions) / len(precisions)\n",
    "    avg_recall = sum(recalls) / len(recalls)\n",
    "    avg_f1 = sum(f1_scores) / len(f1_scores)\n",
    "\n",
    "    # Print summary of model performance\n",
    "    print(\"Average Accuracy:\", avg_accuracy)\n",
    "    print(\"Average Balanced Accuracy:\", avg_balanced_accuracy)\n",
    "    print(\"Average Precision:\", avg_precision)\n",
    "    print(\"Average Recall:\", avg_recall)\n",
    "    print(\"Average F1 Score:\", avg_f1)\n",
    "\n",
    "    return [avg_accuracy, avg_balanced_accuracy, avg_precision, avg_recall, avg_f1]"
   ]
  },
  {
   "cell_type": "markdown",
   "id": "3579706a-6115-4344-a9ff-4c4175c3551b",
   "metadata": {},
   "source": [
    "#### 2. Train/Evaluate Decision Tree Models"
   ]
  },
  {
   "cell_type": "code",
   "execution_count": null,
   "id": "9ae518c6-9fde-49ad-86e8-2b516bdd483c",
   "metadata": {},
   "outputs": [],
   "source": [
    "from sklearn.tree import DecisionTreeClassifier # Imports are normally put in the first code cell of the notebook by convention\n",
    "# Train a decision tree model\n",
    "n_splits=3\n",
    "model = DecisionTreeClassifier() # Here we don't sepcify any hyperparameter values so algorithm defaults will be used\n",
    "metric_list_1 = train_model(df_imputed, n_splits, model)"
   ]
  },
  {
   "cell_type": "markdown",
   "id": "09ddb945-c6a8-488e-9f12-5edbb062fd55",
   "metadata": {},
   "source": [
    "#### 3. Train/Evaluate Random Forest Models"
   ]
  },
  {
   "cell_type": "code",
   "execution_count": null,
   "id": "cbdb94b9-d6c0-4b0f-85e6-ac07ae4e65c1",
   "metadata": {},
   "outputs": [],
   "source": [
    "from sklearn.ensemble import RandomForestClassifier # Imports are normally put in the first code cell of the notebook by convention\n",
    "# Train a decision tree model\n",
    "n_splits=3\n",
    "model = DecisionTreeClassifier() # Here we don't sepcify any hyperparameter values so algorithm defaults will be used\n",
    "metric_list_2 = train_model(df_imputed, n_splits, model)"
   ]
  },
  {
   "cell_type": "markdown",
   "id": "a093ca18-c012-4b79-883f-d7256e98297e",
   "metadata": {},
   "source": [
    "#### 4. Basic Average Metric Comparison Plot Between Algorithms"
   ]
  },
  {
   "cell_type": "code",
   "execution_count": null,
   "id": "3697df6a-211a-44d2-a913-464fc3ff7608",
   "metadata": {},
   "outputs": [],
   "source": [
    "import matplotlib.pyplot as plt # Imports are normally put in the first code cell of the notebook by convention\n",
    "import numpy as np\n",
    "\n",
    "# Create a range of positions for the bars\n",
    "x = np.arange(len(metric_list_1))\n",
    "\n",
    "# Set the width of the bars\n",
    "width = 0.35\n",
    "\n",
    "# Create the bar chart\n",
    "fig, ax = plt.subplots()\n",
    "\n",
    "# Plot the bars for both lists\n",
    "bars1 = ax.bar(x - width/2, metric_list_1, width, label='Decision Tree')\n",
    "bars2 = ax.bar(x + width/2, metric_list_2, width, label='Random Forest')\n",
    "\n",
    "# Add some text for labels, title, and custom x-axis tick labels\n",
    "ax.set_xlabel('Metric Index')\n",
    "ax.set_ylabel('Values')\n",
    "ax.set_title('Comparison of Evaluation Metrics (Decision Tree vs. Random Forest)')\n",
    "ax.set_xticks(x)\n",
    "ax.set_xticklabels(['Accuracy', 'Bal. Accuracy', 'Precision', 'Recall', 'F1 Score'])\n",
    "plt.xticks(rotation=45)\n",
    "\n",
    "ax.legend(loc='upper left', bbox_to_anchor=(1, 1))\n",
    "\n",
    "# Show the plot\n",
    "plt.tight_layout()\n",
    "plt.show()"
   ]
  },
  {
   "cell_type": "markdown",
   "id": "efe4ed29-7a2e-433c-8290-b98b55980062",
   "metadata": {},
   "source": [
    "***\n",
    "### Generating an ROC plot to evaluate a machine learning model"
   ]
  },
  {
   "cell_type": "code",
   "execution_count": null,
   "id": "9840fa47-4fd0-428a-ad21-0cffb7822827",
   "metadata": {},
   "outputs": [],
   "source": [
    "from sklearn.linear_model import LogisticRegression # Imports are normally put in the first code cell of the notebook by convention\n",
    "from sklearn.metrics import roc_curve, auc\n",
    "from sklearn.model_selection import train_test_split\n",
    "\n",
    "# Split data into features and target\n",
    "X = df_imputed.drop(columns=['Class'])\n",
    "y = df_imputed['Class']\n",
    "\n",
    "# Split the dataset into training and testing sets\n",
    "X_train, X_test, y_train, y_test = train_test_split(X, y, test_size=0.3, random_state=42)\n",
    "\n",
    "# Train a binary classifier (Logistic Regression in this case)\n",
    "model = LogisticRegression()\n",
    "model.fit(X_train, y_train)\n",
    "\n",
    "# Get the predicted probabilities (not just the class labels)\n",
    "y_pred_prob = model.predict_proba(X_test)[:, 1]  # Get probabilities for the positive class (class 1)\n",
    "\n",
    "# Calculate ROC curve\n",
    "fpr, tpr, thresholds = roc_curve(y_test, y_pred_prob)\n",
    "\n",
    "# Calculate AUC (Area Under the Curve)\n",
    "roc_auc = auc(fpr, tpr)\n",
    "\n",
    "# Plot ROC curve\n",
    "plt.figure(figsize=(8, 6))\n",
    "plt.plot(fpr, tpr, color='blue', label=f'ROC curve (AUC = {roc_auc:.2f})')\n",
    "plt.plot([0, 1], [0, 1], color='gray', linestyle='--')  # Diagonal line (random classifier)\n",
    "plt.xlabel('False Positive Rate')\n",
    "plt.ylabel('True Positive Rate')\n",
    "plt.title('Receiver Operating Characteristic (ROC) Curve')\n",
    "plt.legend(loc='lower right')\n",
    "plt.grid(True)\n",
    "\n",
    "# Show the plot\n",
    "plt.show()"
   ]
  },
  {
   "cell_type": "markdown",
   "id": "0502982c-b7f1-4aaa-a692-318d71f68985",
   "metadata": {},
   "source": [
    "***\n",
    "## Using ChatGPT to Help Write Python Code for Data Science\n",
    "ChatGPT is an example of a large language model (LLM) that can be very useful for learning more about writing python code and directly generating example code for completing specific tasks. \n",
    "\n",
    "Below we give some examples of requests that might be provided to ChatGPT to get it to generate some useful python code. "
   ]
  },
  {
   "cell_type": "markdown",
   "id": "bd2a44fc-3938-4884-a195-e096ee69c55b",
   "metadata": {},
   "source": [
    "***\n",
    "### Example: Applying Iterative Imputation for Missing Data Values\n",
    "**ChatGPT Prompt:** Write me python code to apply iterative imputation to a dataframe to replace missing values."
   ]
  },
  {
   "cell_type": "markdown",
   "id": "f4645169-2714-46c4-98c6-c205e5e8203a",
   "metadata": {},
   "source": [
    "***\n",
    "### Example: Stratified Cross Validation\n",
    "**ChatGPT Prompt:** Write me python code to apply stratified cross validation to a dataset balancing the 'Class' column as closely as possible across partitions. "
   ]
  },
  {
   "cell_type": "markdown",
   "id": "a637ee6d-b9bf-495f-b956-595b227227a8",
   "metadata": {},
   "source": [
    "***\n",
    "### Example: Hyperparameter Sweep\n",
    "**ChatGPT Prompt:** Write me python code that completes a simple hyperparameter sweep for a decision tree algorithm"
   ]
  },
  {
   "cell_type": "markdown",
   "id": "557994e5-c9e1-4319-bf9c-855b81afe277",
   "metadata": {},
   "source": [
    "***\n",
    "### Example: Boxplot Comparing Algorithm Performance\n",
    "**ChatGPT Prompt:** Write me python code to generate a boxplot comparing the F1-scores across 10 CV partitions for two algorithms."
   ]
  },
  {
   "cell_type": "markdown",
   "id": "faba8d66-588d-4d5e-8d04-c02b301a9535",
   "metadata": {},
   "source": [
    "***\n",
    "### Example: Estimating Model Feature Importance\n",
    "**ChatGPT Prompt:** Write me python code to calculate model feature importance estimates following model training. "
   ]
  },
  {
   "cell_type": "code",
   "execution_count": null,
   "id": "857772bd-46be-49ff-8a8d-1d4a822968c6",
   "metadata": {},
   "outputs": [],
   "source": []
  }
 ],
 "metadata": {
  "kernelspec": {
   "display_name": "Python [conda env:base] *",
   "language": "python",
   "name": "conda-base-py"
  },
  "language_info": {
   "codemirror_mode": {
    "name": "ipython",
    "version": 3
   },
   "file_extension": ".py",
   "mimetype": "text/x-python",
   "name": "python",
   "nbconvert_exporter": "python",
   "pygments_lexer": "ipython3",
   "version": "3.12.7"
  }
 },
 "nbformat": 4,
 "nbformat_minor": 5
}
