{
 "cells": [
  {
   "cell_type": "code",
   "execution_count": 2,
   "id": "09ad0ab5-24d9-415b-9d2f-647843d036db",
   "metadata": {},
   "outputs": [],
   "source": [
    "# ! pip install opencv-python pandas numpy torchvision segmentation_models_pytorch matplotlib seaborn scikit-image scipy tqdm Pillow scikit-learn torch\n"
   ]
  },
  {
   "cell_type": "code",
   "execution_count": 4,
   "id": "02aedf14-d1e3-49f0-a9bc-dcb8c2e37ceb",
   "metadata": {},
   "outputs": [],
   "source": [
    "import cv2"
   ]
  },
  {
   "cell_type": "code",
   "execution_count": 5,
   "id": "1d481139-32bd-4524-a351-75c86185eb79",
   "metadata": {},
   "outputs": [
    {
     "name": "stderr",
     "output_type": "stream",
     "text": [
      "/opt/anaconda3/envs/CedarsAIProject3/lib/python3.11/site-packages/tqdm/auto.py:21: TqdmWarning: IProgress not found. Please update jupyter and ipywidgets. See https://ipywidgets.readthedocs.io/en/stable/user_install.html\n",
      "  from .autonotebook import tqdm as notebook_tqdm\n"
     ]
    }
   ],
   "source": [
    "import segmentation_models_pytorch as smp\n"
   ]
  },
  {
   "cell_type": "code",
   "execution_count": 8,
   "id": "2625c81a-4f5e-4f17-9898-d66ecb2d9b9f",
   "metadata": {},
   "outputs": [],
   "source": [
    "! python 1_prepdata.py"
   ]
  },
  {
   "cell_type": "code",
   "execution_count": null,
   "id": "35472a47-c19b-4814-9ea4-a666a3e496ca",
   "metadata": {},
   "outputs": [],
   "source": [
    "# ! touch ../.gitignore && open ../.gitignore"
   ]
  },
  {
   "cell_type": "code",
   "execution_count": null,
   "id": "48227c9a",
   "metadata": {},
   "outputs": [],
   "source": []
  }
 ],
 "metadata": {
  "kernelspec": {
   "display_name": "CedarsAIProject3",
   "language": "python",
   "name": "python3"
  },
  "language_info": {
   "codemirror_mode": {
    "name": "ipython",
    "version": 3
   },
   "file_extension": ".py",
   "mimetype": "text/x-python",
   "name": "python",
   "nbconvert_exporter": "python",
   "pygments_lexer": "ipython3",
   "version": "3.11.11"
  }
 },
 "nbformat": 4,
 "nbformat_minor": 5
}
